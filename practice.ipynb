{
 "cells": [
  {
   "cell_type": "code",
   "execution_count": 15,
   "metadata": {},
   "outputs": [
    {
     "name": "stdout",
     "output_type": "stream",
     "text": [
      "True\n",
      "True\n",
      "False\n",
      "False\n"
     ]
    }
   ],
   "source": [
    "\n",
    "#                You are tasked with creating a Python function to determine whether a given string is a pangram. \n",
    "#                 A pangram is a sentence that contains every letter of the alphabet at least once.\n",
    "                \n",
    "#                 Write a Python function named is_pangram that takes a string as input and returns True if it is a pangram, and False otherwise.\n",
    "                \n",
    "#                 Your function should be case-insensitive, meaning that it should consider both uppercase and lowercase letters when checking for the presence of each letter of the alphabet.\n",
    "                \n",
    "#                 Example:\n",
    "#                 def is_pangram(sentence):\n",
    "#                     # Your implementation here\n",
    "\n",
    "#                 # Test cases\n",
    "#                 print(is_pangram(\"The quick brown fox jumps over the lazy dog\"))  # Output: True\n",
    "#                 print(is_pangram(\"Hello, world!\"))  # Output: False\n",
    "#                 print(is_pangram(\"Pack my box with five dozen liquor jugs\"))  # Output: True\n",
    "#                 print(is_pangram(\"A quick brown fox\"))  # Output: False\n",
    "\n",
    "\n",
    "\n",
    "def is_pangram(sentence):\n",
    "    alphabet = \"abcdefghijklmnopqrstuvwxyz\"\n",
    "    sentence=sentence.lower()\n",
    "    for char in alphabet:\n",
    "        if char not in sentence:\n",
    "            return False\n",
    "    return True\n",
    "    \n",
    "print(is_pangram(\"Pack my box with five dozen liquor jugs\"))\n",
    "print(is_pangram(\"The quick brown fox jumps over the lazy dog\"))\n",
    "print(is_pangram(\"Hello, world!\"))\n",
    "print(is_pangram(\"A quick brown fox \"))"
   ]
  },
  {
   "cell_type": "code",
   "execution_count": null,
   "metadata": {},
   "outputs": [],
   "source": []
  },
  {
   "cell_type": "code",
   "execution_count": 3,
   "metadata": {},
   "outputs": [],
   "source": []
  },
  {
   "cell_type": "code",
   "execution_count": 2,
   "metadata": {},
   "outputs": [
    {
     "name": "stdout",
     "output_type": "stream",
     "text": [
      "654321\n"
     ]
    }
   ],
   "source": [
    "a = [1,2,3,4,5,6]\n",
    "b=[]\n",
    "d=len(a)-1\n",
    "e=0\n",
    "for i in range(len(a)-1,-1,-1):\n",
    "    b.append(a[i])\n",
    "\n",
    "for x in b:\n",
    "    a= x \n",
    "    if a>0:\n",
    "        c=a*10**d\n",
    "        d-=1\n",
    "        e+=c\n",
    "        \n",
    "\n",
    "print(e)       \n",
    "\n"
   ]
  },
  {
   "cell_type": "code",
   "execution_count": 16,
   "metadata": {},
   "outputs": [
    {
     "name": "stdout",
     "output_type": "stream",
     "text": [
      "[6, 8, 0, 3, 1]\n"
     ]
    }
   ],
   "source": [
    "l1=[1,2,3,4]\n",
    "l2=[5,6,7,8]\n",
    "\n",
    "a=[]\n",
    "b=[]\n",
    "c=len(l1)-1\n",
    "d=len(l2)-1\n",
    "g=0\n",
    "f=0\n",
    "for i in range(len(l1)-1,-1,-1):\n",
    "    a.append(l1[i])\n",
    "\n",
    "for x in a:\n",
    "    a=x\n",
    "    if a>0:\n",
    "        e=a*10**c\n",
    "        c-=1\n",
    "        g+=e\n",
    "\n",
    "for j in range(len(l2)-1,-1,-1):\n",
    "    b.append(l2[j])\n",
    "\n",
    "for y in b:\n",
    "    b=y\n",
    "    if b>0:\n",
    "        h=b*10**d\n",
    "        d-=1\n",
    "        f+=h\n",
    "\n",
    "sum=g+f\n",
    "result=list(map(int, str(sum)))\n",
    "m=[]\n",
    "for k in range(len(result)-1,-1,-1):\n",
    "    m.append(result[k])\n",
    "\n",
    "print(m)\n",
    "\n"
   ]
  },
  {
   "cell_type": "code",
   "execution_count": 16,
   "metadata": {},
   "outputs": [
    {
     "name": "stdout",
     "output_type": "stream",
     "text": [
      "Index 0: 10\n",
      "Index 1: 20\n",
      "Index 2: 30\n",
      "Index 3: 40\n",
      "Index 4: 50\n"
     ]
    }
   ],
   "source": [
    "def print_indexing(my_list):\n",
    "    indexing_dict = {}\n",
    "    for i in range(len(my_list)):\n",
    "        indexing_dict[i] = my_list[i]\n",
    "    for key, value in indexing_dict.items():\n",
    "        print(f\"Index {key}: {value}\")\n",
    "\n",
    "my_list = [10, 20, 30, 40, 50]\n",
    "print_indexing(my_list)"
   ]
  },
  {
   "cell_type": "code",
   "execution_count": 13,
   "metadata": {},
   "outputs": [
    {
     "name": "stdout",
     "output_type": "stream",
     "text": [
      "9\n"
     ]
    }
   ],
   "source": [
    "s=\"scvsdgfcj\"\n",
    "\n",
    "a=list(map(str , s ))\n",
    "b=0\n",
    "c=[]\n",
    "for a[0] in a:\n",
    "    break\n",
    "for i in a:\n",
    "    c.append(i)\n",
    "    if i in c:\n",
    "       b+=1\n",
    "    \n",
    "\n",
    "print(b)\n",
    "# new = \"\"\n",
    "# for i in c:\n",
    "#     new+=i\n",
    "# print(new)"
   ]
  },
  {
   "cell_type": "code",
   "execution_count": null,
   "metadata": {},
   "outputs": [],
   "source": []
  },
  {
   "cell_type": "code",
   "execution_count": null,
   "metadata": {},
   "outputs": [],
   "source": []
  },
  {
   "cell_type": "code",
   "execution_count": 17,
   "metadata": {},
   "outputs": [
    {
     "name": "stdout",
     "output_type": "stream",
     "text": [
      "2020 is not a perfect number\n"
     ]
    }
   ],
   "source": [
    "\n",
    "# perfect number program  \n",
    "\n",
    "def perfect_number(num):\n",
    "    sum = 0\n",
    "    for i in range(1, num):\n",
    "        if num % i == 0:\n",
    "            sum += i\n",
    "    return sum == num\n",
    "\n",
    "number = int(input(\"Enter a number: \"))\n",
    "\n",
    "if perfect_number(number):\n",
    "    print(f\"{number} is a perfect number\")\n",
    "else:\n",
    "    print(f\"{number} is not a perfect number\") \n"
   ]
  },
  {
   "cell_type": "code",
   "execution_count": 18,
   "metadata": {},
   "outputs": [
    {
     "name": "stdout",
     "output_type": "stream",
     "text": [
      "no\n"
     ]
    }
   ],
   "source": [
    "c=input('')\n",
    "a=c.lower() \n",
    "b=['a','b','c','d','e','f','g','h','i','j','k','l','m','n','o','p','q','r','s','t','u','v','w','x','y','z']\n",
    "flag=True\n",
    "for i in b:\n",
    "    if i not in a:\n",
    "        flag=False \n",
    "    else:\n",
    "        flag=True\n",
    "if flag==True:\n",
    "    print('yes')\n",
    "else:\n",
    "    print('no')"
   ]
  },
  {
   "cell_type": "code",
   "execution_count": null,
   "metadata": {},
   "outputs": [],
   "source": []
  },
  {
   "cell_type": "code",
   "execution_count": null,
   "metadata": {},
   "outputs": [
    {
     "name": "stdout",
     "output_type": "stream",
     "text": [
      "30\n"
     ]
    }
   ],
   "source": [
    "l =[10,20,30]\n",
    "l=l.pop(2)\n",
    "print(l)"
   ]
  },
  {
   "cell_type": "code",
   "execution_count": 16,
   "metadata": {},
   "outputs": [
    {
     "name": "stdout",
     "output_type": "stream",
     "text": [
      "no\n"
     ]
    }
   ],
   "source": [
    "a=int(input(''))\n",
    "org=a\n",
    "value=len(str(a))\n",
    "sum=0\n",
    "i=0\n",
    "while i<a:\n",
    "    digit=a%10\n",
    "    sum=sum+digit**value\n",
    "    a=a//10\n",
    "if sum==org:\n",
    "    print('yes')\n",
    "else:\n",
    "    print('no')"
   ]
  },
  {
   "cell_type": "code",
   "execution_count": 33,
   "metadata": {},
   "outputs": [
    {
     "name": "stdout",
     "output_type": "stream",
     "text": [
      "None\n"
     ]
    }
   ],
   "source": [
    "l=[10,20,30]\n",
    "l=l.append(100)\n",
    "print(l)"
   ]
  },
  {
   "cell_type": "code",
   "execution_count": 8,
   "metadata": {},
   "outputs": [
    {
     "name": "stdout",
     "output_type": "stream",
     "text": [
      "Leap year\n"
     ]
    }
   ],
   "source": [
    "def is_leap_year(year):\n",
    "    return 'Leap year' * ((year % 4 == 0 and year % 100 != 0) or year % 400 == 0) or 'Not a leap year'\n",
    "\n",
    "# Example usage\n",
    "year_input = int(input())\n",
    "print(is_leap_year(year_input))\n"
   ]
  },
  {
   "cell_type": "code",
   "execution_count": 3,
   "metadata": {},
   "outputs": [
    {
     "name": "stdout",
     "output_type": "stream",
     "text": [
      "Not Prime\n"
     ]
    }
   ],
   "source": [
    "def is_prime(number):\n",
    "    return 'Prime' if number > 1 and all(number % i != 0 for i in range(2, int(number**0.5) + 1)) else 'Not Prime'\n",
    "\n",
    "# Example usage\n",
    "num_input = int(input(\"Enter a number: \"))\n",
    "print(is_prime(num_input))\n"
   ]
  },
  {
   "cell_type": "code",
   "execution_count": 17,
   "metadata": {},
   "outputs": [
    {
     "name": "stdout",
     "output_type": "stream",
     "text": [
      "[(1+0j), (5+0j), (6+0j), (7+0j)]\n"
     ]
    }
   ],
   "source": [
    "numbers = [1, 20, 13, 10.5, 5, 6, 7]\n",
    "cmpl = [complex(x) for x in numbers if x < 10]\n",
    "print(cmpl)\n"
   ]
  },
  {
   "cell_type": "code",
   "execution_count": 18,
   "metadata": {},
   "outputs": [
    {
     "name": "stdout",
     "output_type": "stream",
     "text": [
      "a\n"
     ]
    }
   ],
   "source": [
    "a = \"hello\"\n",
    "hello = \"a\"\n",
    "print(eval(eval(eval(a))))"
   ]
  },
  {
   "cell_type": "code",
   "execution_count": 20,
   "metadata": {},
   "outputs": [
    {
     "name": "stdout",
     "output_type": "stream",
     "text": [
      "t\n",
      "e\n"
     ]
    }
   ],
   "source": [
    "text = \"Python is great\"\n",
    "for i in text[:-4:-2]:\n",
    " print(i)\n"
   ]
  },
  {
   "cell_type": "code",
   "execution_count": 23,
   "metadata": {},
   "outputs": [
    {
     "name": "stdout",
     "output_type": "stream",
     "text": [
      "{'name': 'Marker', 'type': 'Intern', 'new': ['age', 'category'], 'Name': None}\n"
     ]
    }
   ],
   "source": [
    "D = {\"name\": \"Marker\", \"type\": \"Intern\"}\n",
    "H = {\"new\": [\"age\", \"category\"], \"Name\": None}\n",
    "D.update(H)\n",
    "print(D)\n"
   ]
  },
  {
   "cell_type": "code",
   "execution_count": 24,
   "metadata": {},
   "outputs": [
    {
     "name": "stdout",
     "output_type": "stream",
     "text": [
      "21\n"
     ]
    }
   ],
   "source": [
    "def prod (a, b):\n",
    " return a*b\n",
    "result = prod(7, 3)\n",
    "print(result)"
   ]
  },
  {
   "cell_type": "code",
   "execution_count": 28,
   "metadata": {},
   "outputs": [
    {
     "name": "stdout",
     "output_type": "stream",
     "text": [
      "Perfect square\n"
     ]
    }
   ],
   "source": [
    "import math\n",
    "def is_perfect_square(num):\n",
    "   return 'Perfect square' if math.sqrt(num).is_integer() else 'Not a perfect square'\n",
    "\n",
    "# main code \n",
    "n = int(input())\n",
    "re = is_perfect_square(n)\n",
    "print(re)"
   ]
  },
  {
   "cell_type": "code",
   "execution_count": 147,
   "metadata": {},
   "outputs": [
    {
     "name": "stdout",
     "output_type": "stream",
     "text": [
      "Not a perfect square\n"
     ]
    }
   ],
   "source": [
    "def is_perfect_square(num):\n",
    "  return 'Perfect square' if num > 0 and num == (num ** 0.5) ** 2 else 'Not a perfect square'\n",
    "\n",
    "# main code \n",
    "n = int(input())\n",
    "re = is_perfect_square(n)\n",
    "print(re)\n"
   ]
  },
  {
   "cell_type": "code",
   "execution_count": 53,
   "metadata": {},
   "outputs": [
    {
     "name": "stdout",
     "output_type": "stream",
     "text": [
      "te\n"
     ]
    }
   ],
   "source": [
    "text = \"Python is great\"\n",
    "print(text[:-4:-2])\n"
   ]
  },
  {
   "cell_type": "code",
   "execution_count": 61,
   "metadata": {},
   "outputs": [
    {
     "name": "stdout",
     "output_type": "stream",
     "text": [
      "{'a': 'h'}\n"
     ]
    }
   ],
   "source": [
    "d={\"a\":\"h\",\"b\":\"l\"}\n",
    "d.popitem()\n",
    "\n",
    "print(d)"
   ]
  },
  {
   "cell_type": "code",
   "execution_count": 62,
   "metadata": {},
   "outputs": [
    {
     "name": "stdout",
     "output_type": "stream",
     "text": [
      "6\n"
     ]
    }
   ],
   "source": [
    "def max_value(a, b):\n",
    " return max(a,b)\n",
    "\n",
    "a=int(input(''))\n",
    "b=int(input(''))\n",
    "print(max_value(a,b))"
   ]
  },
  {
   "cell_type": "code",
   "execution_count": 83,
   "metadata": {},
   "outputs": [
    {
     "name": "stdout",
     "output_type": "stream",
     "text": [
      "1\n"
     ]
    }
   ],
   "source": [
    "file_name='data.txt'\n",
    "with open(file_name,'r') as file:\n",
    "    lines = 0\n",
    "    for i in file:\n",
    "        lines += 1\n",
    "    print(lines)\n",
    "   \n"
   ]
  },
  {
   "cell_type": "code",
   "execution_count": 1,
   "metadata": {},
   "outputs": [
    {
     "name": "stdout",
     "output_type": "stream",
     "text": [
      "436\n"
     ]
    }
   ],
   "source": [
    "file_name = 'data.txt'\n",
    "with open(file_name, 'r') as file:\n",
    "      words = file.read().split()\n",
    "      a=len(words)\n",
    "print(a)\n"
   ]
  },
  {
   "cell_type": "code",
   "execution_count": 110,
   "metadata": {},
   "outputs": [
    {
     "name": "stdout",
     "output_type": "stream",
     "text": [
      "9\n",
      "Loop finished\n"
     ]
    }
   ],
   "source": [
    "x = 9\n",
    "while x > 0:\n",
    " if x % 2 == 0:\n",
    "  x -= 2\n",
    "  continue\n",
    " print(x)\n",
    " x -= 1\n",
    "else:\n",
    " print(\"Loop finished\")"
   ]
  },
  {
   "cell_type": "code",
   "execution_count": 4,
   "metadata": {},
   "outputs": [
    {
     "name": "stdout",
     "output_type": "stream",
     "text": [
      "Output List using list comprehensions: [2, 4, 4, 6]\n"
     ]
    }
   ],
   "source": [
    "input_list = [1, 2, 3, 4, 4, 5, 6, 7, 7]\n",
    "output_list=[]\n",
    "\n",
    "list_using_comp = [var for var in input_list if var % 2 == 0 and output_list.append(var)]\n",
    "\n",
    "print(\"Output List using list comprehensions:\",output_list)\n"
   ]
  },
  {
   "cell_type": "code",
   "execution_count": 127,
   "metadata": {},
   "outputs": [
    {
     "name": "stdout",
     "output_type": "stream",
     "text": [
      "hi Alice\n",
      "hi Bob\n",
      "hi Ann\n"
     ]
    }
   ],
   "source": [
    "def say_hi(*friends):\n",
    "    for friend in friends:\n",
    "        print('hi', friend)\n",
    "\n",
    "friends = ['Alice', 'Bob', 'Ann']\n",
    "say_hi(*friends)"
   ]
  },
  {
   "cell_type": "code",
   "execution_count": 145,
   "metadata": {},
   "outputs": [
    {
     "name": "stdout",
     "output_type": "stream",
     "text": [
      "hi Alice\n",
      "hi Bob\n",
      "hi Ann\n"
     ]
    }
   ],
   "source": [
    "def say_hi(friends): \n",
    "    [print('hi', friend) for friend in friends]\n",
    "\n",
    "friends = ['Alice', 'Bob', 'Ann']\n",
    "say_hi(friends)\n"
   ]
  },
  {
   "cell_type": "code",
   "execution_count": 149,
   "metadata": {},
   "outputs": [
    {
     "name": "stdout",
     "output_type": "stream",
     "text": [
      "inside the function: (1, 2, 3, 4, 5)\n",
      "outside the function (1, 2, 3)\n"
     ]
    }
   ],
   "source": [
    "def modify_tuple(t):\n",
    "     t+=(4,5)\n",
    "     print(\"inside the function:\",t)\n",
    "coordinates=(1,2,3)\n",
    "modify_tuple(coordinates)\n",
    "print(\"outside the function\", coordinates)"
   ]
  },
  {
   "cell_type": "code",
   "execution_count": 151,
   "metadata": {},
   "outputs": [
    {
     "name": "stdout",
     "output_type": "stream",
     "text": [
      "(666, 66, 6)\n"
     ]
    }
   ],
   "source": [
    "n =int(input(''))\n",
    "s=n*100+n*10+n , n*10+n , n\n",
    "print(s)"
   ]
  },
  {
   "cell_type": "code",
   "execution_count": 3,
   "metadata": {},
   "outputs": [
    {
     "name": "stdout",
     "output_type": "stream",
     "text": [
      "max\n"
     ]
    }
   ],
   "source": [
    "min='max'\n",
    "max='min'\n",
    "print(eval(eval(eval(max))))"
   ]
  },
  {
   "cell_type": "code",
   "execution_count": 1,
   "metadata": {},
   "outputs": [
    {
     "name": "stdout",
     "output_type": "stream",
     "text": [
      "[4, 5]\n"
     ]
    }
   ],
   "source": [
    "def intersection(ls1,ls2):\n",
    "    return [i for i in ls1 if i in ls2]\n",
    "\n",
    "ls1=[1,2,3,4,5]\n",
    "ls2=[4,5,6,7,8]\n",
    "print(intersection(ls1,ls2))"
   ]
  },
  {
   "cell_type": "code",
   "execution_count": 8,
   "metadata": {},
   "outputs": [
    {
     "name": "stdout",
     "output_type": "stream",
     "text": [
      "['uday', 'ram']\n"
     ]
    }
   ],
   "source": [
    "def gig(dct):\n",
    "    return[key for key,value in dct.items() if value >= 18]\n",
    "\n",
    "dct={'uday':34,'ram':20,'shyam':17,'rohit':16}\n",
    "out=gig(dct)\n",
    "print(out)\n",
    "#excepted output[uday,ram]   # print name in a given dictonary whose age is above 18 year "
   ]
  },
  {
   "cell_type": "code",
   "execution_count": 5,
   "metadata": {},
   "outputs": [
    {
     "name": "stdout",
     "output_type": "stream",
     "text": [
      "266\n"
     ]
    }
   ],
   "source": [
    "st='ABCD'\n",
    "print(sum(map(ord,st)))"
   ]
  }
 ],
 "metadata": {
  "kernelspec": {
   "display_name": "Python 3",
   "language": "python",
   "name": "python3"
  },
  "language_info": {
   "codemirror_mode": {
    "name": "ipython",
    "version": 3
   },
   "file_extension": ".py",
   "mimetype": "text/x-python",
   "name": "python",
   "nbconvert_exporter": "python",
   "pygments_lexer": "ipython3",
   "version": "3.12.1"
  }
 },
 "nbformat": 4,
 "nbformat_minor": 2
}
